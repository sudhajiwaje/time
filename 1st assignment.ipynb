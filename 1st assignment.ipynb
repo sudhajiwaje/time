{
 "cells": [
  {
   "cell_type": "code",
   "execution_count": 1,
   "id": "67ab5a06",
   "metadata": {},
   "outputs": [
    {
     "name": "stdout",
     "output_type": "stream",
     "text": [
      "Hello world\n"
     ]
    }
   ],
   "source": [
    " ##Print Hello world! \n",
    "    \n",
    "print (\"Hello world\")"
   ]
  },
  {
   "cell_type": "code",
   "execution_count": 9,
   "id": "170c86b4",
   "metadata": {},
   "outputs": [
    {
     "name": "stdout",
     "output_type": "stream",
     "text": [
      "a = 10 <class 'int'>\n"
     ]
    }
   ],
   "source": [
    "##Declare the following variables: Int, Float, Boolean, String & print its value\n",
    "\n",
    "a = 10\n",
    "print (\"a = 10\" ,type(a))"
   ]
  },
  {
   "cell_type": "code",
   "execution_count": 10,
   "id": "54481319",
   "metadata": {},
   "outputs": [
    {
     "name": "stdout",
     "output_type": "stream",
     "text": [
      "a = 10.53 <class 'float'>\n"
     ]
    }
   ],
   "source": [
    "a = 10.53\n",
    "print (\"a = 10.53\",type(a))"
   ]
  },
  {
   "cell_type": "code",
   "execution_count": 11,
   "id": "6f4d9f8a",
   "metadata": {},
   "outputs": [
    {
     "name": "stdout",
     "output_type": "stream",
     "text": [
      "a = lion <class 'str'>\n"
     ]
    }
   ],
   "source": [
    "a = \"lion\"\n",
    "print (\"a = lion\",type(a))"
   ]
  },
  {
   "cell_type": "code",
   "execution_count": 12,
   "id": "0ad30d10",
   "metadata": {},
   "outputs": [
    {
     "name": "stdout",
     "output_type": "stream",
     "text": [
      "f1 = True <class 'bool'>\n"
     ]
    }
   ],
   "source": [
    "f1 = True\n",
    "print (\"f1 = True\", type(f1))"
   ]
  },
  {
   "cell_type": "code",
   "execution_count": 12,
   "id": "1e4fcf71",
   "metadata": {},
   "outputs": [
    {
     "name": "stdout",
     "output_type": "stream",
     "text": [
      "x = 6j  <class 'complex'>\n"
     ]
    }
   ],
   "source": [
    "x = 6j\n",
    "y = 6j - 3j\n",
    "print (\"x = 6j \",type (x))"
   ]
  },
  {
   "cell_type": "code",
   "execution_count": 1,
   "id": "b70b045f",
   "metadata": {},
   "outputs": [
    {
     "name": "stdout",
     "output_type": "stream",
     "text": [
      "enter first side 8\n",
      "enter second side 8\n",
      "enter third side 9\n",
      "area of the triangle is 29.76\n"
     ]
    }
   ],
   "source": [
    "## Program to calculate the Area Of Triangle\n",
    "\n",
    "a = float(input(\"enter first side \"))\n",
    "b = float(input(\"enter second side \"))\n",
    "c = float(input(\"enter third side \"))\n",
    "s = (a+b+c)/2\n",
    "area = (s*(s-a)*(s-b)*(s-c))**0.5\n",
    "print ('area of the triangle is %0.2f' %area )"
   ]
  },
  {
   "cell_type": "code",
   "execution_count": 8,
   "id": "7321c76d",
   "metadata": {
    "scrolled": true
   },
   "outputs": [
    {
     "name": "stdout",
     "output_type": "stream",
     "text": [
      "a =  10\n",
      "b =  20\n"
     ]
    }
   ],
   "source": [
    "## Program to swap two variables\n",
    "a = 10\n",
    "b =20\n",
    "a,b = b,a\n",
    "print (\"a = \",b)\n",
    "print (\"b = \",a)"
   ]
  },
  {
   "cell_type": "code",
   "execution_count": 13,
   "id": "d282a443",
   "metadata": {},
   "outputs": [
    {
     "name": "stdout",
     "output_type": "stream",
     "text": [
      "enter the number :  10\n",
      "it's a positive number \n"
     ]
    }
   ],
   "source": [
    "## Program is to check if a number is positive, negative or 0 (Using If…10\n",
    "\n",
    "num = float (input (\"enter the number :  \"))\n",
    "if num > 0 :\n",
    "    print (\"it's a positive number \")\n",
    "elif  num == 0:\n",
    "    print (\"it's zero\")\n",
    "else :\n",
    "    print (\"it's a negative number\")                        \n",
    "                    "
   ]
  },
  {
   "cell_type": "code",
   "execution_count": 14,
   "id": "80e56d52",
   "metadata": {},
   "outputs": [
    {
     "name": "stdout",
     "output_type": "stream",
     "text": [
      "enter the number :  -5\n",
      "it's a negative number\n"
     ]
    }
   ],
   "source": [
    "## Program is to check if a number is positive, negative or 0 (Using If…10\n",
    "\n",
    "num = float (input (\"enter the number :  \"))\n",
    "if num > 0 :\n",
    "    print (\"it's a positive number \")\n",
    "elif  num == 0:\n",
    "    print (\"it's zero\")\n",
    "else :\n",
    "    print (\"it's a negative number\")   "
   ]
  },
  {
   "cell_type": "code",
   "execution_count": 15,
   "id": "e332d4fc",
   "metadata": {},
   "outputs": [
    {
     "name": "stdout",
     "output_type": "stream",
     "text": [
      "enter the number :  0\n",
      "it's zero\n"
     ]
    }
   ],
   "source": [
    "## Program is to check if a number is positive, negative or 0 (Using If…10\n",
    "\n",
    "num = float (input (\"enter the number :  \"))\n",
    "if num > 0 :\n",
    "    print (\"it's a positive number \")\n",
    "elif  num == 0:\n",
    "    print (\"it's zero\")\n",
    "else :\n",
    "    print (\"it's a negative number\")   "
   ]
  },
  {
   "cell_type": "code",
   "execution_count": 17,
   "id": "04821f5c",
   "metadata": {},
   "outputs": [
    {
     "name": "stdout",
     "output_type": "stream",
     "text": [
      "enter the number : 10\n",
      "it's even number\n"
     ]
    }
   ],
   "source": [
    "## Program is to check if a number is Even or Odd\n",
    "num = int (input(\"enter the number : \"))\n",
    "if (num % 2) == 0 :\n",
    "    print (\"it's even number\")\n",
    "else :\n",
    "    print (\"it's odd number\")\n",
    "    "
   ]
  },
  {
   "cell_type": "code",
   "execution_count": 18,
   "id": "5ba7d560",
   "metadata": {},
   "outputs": [
    {
     "name": "stdout",
     "output_type": "stream",
     "text": [
      "enter the number : 5\n",
      "it's odd number\n"
     ]
    }
   ],
   "source": [
    "## Program is to check if a number is Even or Odd\n",
    "num = int (input(\"enter the number : \"))\n",
    "if (num % 2) == 0 :\n",
    "    print (\"it's even number\")\n",
    "else :\n",
    "    print (\"it's odd number\")"
   ]
  },
  {
   "cell_type": "code",
   "execution_count": null,
   "id": "e87dae87",
   "metadata": {},
   "outputs": [],
   "source": [
    "## Program to print Odd number within a given range\n",
    "\n"
   ]
  },
  {
   "cell_type": "markdown",
   "id": "26965108",
   "metadata": {},
   "source": [
    "## STRINGS"
   ]
  },
  {
   "cell_type": "code",
   "execution_count": 22,
   "id": "5fc4bf86",
   "metadata": {},
   "outputs": [
    {
     "name": "stdout",
     "output_type": "stream",
     "text": [
      "samtsirhc\n"
     ]
    }
   ],
   "source": [
    "## Program to reverse a string without using recursion\n",
    "msg = \"christmas\"\n",
    "print (msg [-1 :-len(msg)-1 :-1])"
   ]
  },
  {
   "cell_type": "code",
   "execution_count": 28,
   "id": "8fd5e675",
   "metadata": {},
   "outputs": [
    {
     "name": "stdout",
     "output_type": "stream",
     "text": [
      "it is a pelindrome\n"
     ]
    }
   ],
   "source": [
    "## Program to check if string is palindrome or not\n",
    "\n",
    "a = \"naman\" \n",
    "if a [: :1] == a [ : : -1] :\n",
    "    print (\"it is a pelindrome\")\n",
    "else :\n",
    "    print (\"it is not a pelindrome\")\n",
    "    \n"
   ]
  },
  {
   "cell_type": "code",
   "execution_count": 38,
   "id": "92c3fa26",
   "metadata": {},
   "outputs": [
    {
     "name": "stdout",
     "output_type": "stream",
     "text": [
      "$ll $nim$ls $re in $we \n"
     ]
    }
   ],
   "source": [
    "## Python Program to Replace all Occurrences of ‘a’ with $ in a String\n",
    "\n",
    "str = \"all animals are in awe \"\n",
    "new_str = str.replace(\"a\",\"$\")\n",
    "print (new_str)\n"
   ]
  },
  {
   "cell_type": "code",
   "execution_count": 41,
   "id": "8cb00e4b",
   "metadata": {},
   "outputs": [
    {
     "name": "stdout",
     "output_type": "stream",
     "text": [
      "number of vowels are\n",
      "10\n"
     ]
    }
   ],
   "source": [
    "## Python Program to Count the Number of Vowels in a String\n",
    "string = \"everyone is happy and cheerful\"\n",
    "vowels = 0\n",
    "for i in string :\n",
    "    if (i ==\"a\"or i ==\"e\" or i==\"i\" or i==\"o\" or i==\"u\"):\n",
    "         vowels = vowels + 1\n",
    "print (\"number of vowels are\")    \n",
    "print(vowels)"
   ]
  },
  {
   "cell_type": "code",
   "execution_count": null,
   "id": "f7d9408a",
   "metadata": {},
   "outputs": [],
   "source": []
  }
 ],
 "metadata": {
  "kernelspec": {
   "display_name": "Python 3 (ipykernel)",
   "language": "python",
   "name": "python3"
  },
  "language_info": {
   "codemirror_mode": {
    "name": "ipython",
    "version": 3
   },
   "file_extension": ".py",
   "mimetype": "text/x-python",
   "name": "python",
   "nbconvert_exporter": "python",
   "pygments_lexer": "ipython3",
   "version": "3.9.13"
  }
 },
 "nbformat": 4,
 "nbformat_minor": 5
}
